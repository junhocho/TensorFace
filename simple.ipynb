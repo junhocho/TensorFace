{
 "cells": [
  {
   "cell_type": "code",
   "execution_count": 1,
   "metadata": {
    "collapsed": false
   },
   "outputs": [
    {
     "name": "stdout",
     "output_type": "stream",
     "text": [
      "load complete\n"
     ]
    }
   ],
   "source": [
    "import vggface\n",
    "from pprint import pprint\n",
    "import tensorflow as tf\n",
    "import numpy as np\n",
    "\n",
    "input_placeholder = tf.placeholder(tf.float32, shape=(1, 224, 224, 3))\n",
    "network = vggface.VGGFace()\n",
    "ses = tf.InteractiveSession()\n",
    "network.load(ses,input_placeholder)\n",
    "print \"load complete\""
   ]
  },
  {
   "cell_type": "code",
   "execution_count": 2,
   "metadata": {
    "collapsed": false
   },
   "outputs": [
    {
     "name": "stdout",
     "output_type": "stream",
     "text": [
      "[(13.686728, 'Aamir_Khan'),\n",
      " (8.471179, 'Adam_Driver'),\n",
      " (8.0207796, 'Manish_Dayal'),\n",
      " (7.2776303, 'John_Abraham'),\n",
      " (6.8999419, 'Jacob_Artist'),\n",
      " (6.5390973, 'Adam_Copeland'),\n",
      " (6.4980907, 'Adrian_Paul'),\n",
      " (6.4170513, 'Akshay_Kumar'),\n",
      " (6.3718719, 'D.B._Woodside'),\n",
      " (6.0774555, 'Ajay_Devgn')]\n"
     ]
    }
   ],
   "source": [
    "\n",
    "output = network.eval(feed_dict={input_placeholder:vggface.load_image('test/ak.png')})[0]\n",
    "pprint(sorted([(v,network.names[k]) for k,v in enumerate(output)],reverse=True)[:10])"
   ]
  },
  {
   "cell_type": "code",
   "execution_count": null,
   "metadata": {
    "collapsed": false
   },
   "outputs": [],
   "source": [
    "output = network.eval(feed_dict={input_placeholder:vggface.load_image('test/mk2.png')})[0]\n",
    "pprint(sorted([(v,network.names[k]) for k,v in enumerate(output)],reverse=True)[:10])"
   ]
  },
  {
   "cell_type": "code",
   "execution_count": null,
   "metadata": {
    "collapsed": false
   },
   "outputs": [],
   "source": [
    "output = network.eval(feed_dict={input_placeholder:vggface.load_image('test/mk3.png')})[0]\n",
    "pprint(sorted([(v,network.names[k]) for k,v in enumerate(output)],reverse=True)[:10])"
   ]
  },
  {
   "cell_type": "code",
   "execution_count": 3,
   "metadata": {
    "collapsed": false
   },
   "outputs": [
    {
     "name": "stdout",
     "output_type": "stream",
     "text": [
      "<type 'numpy.ndarray'> <type 'numpy.ndarray'>\n",
      "4096 4096\n"
     ]
    }
   ],
   "source": [
    "output1 = network.eval(feed_dict={input_placeholder:vggface.load_image('test/ak.png')})\n",
    "output2 = network.eval(feed_dict={input_placeholder:vggface.load_image('test/ak.png')})[0]\n",
    "print type(output1), type(output2)\n",
    "print output1.size, output2.size"
   ]
  },
  {
   "cell_type": "code",
   "execution_count": 22,
   "metadata": {
    "collapsed": false
   },
   "outputs": [
    {
     "name": "stdout",
     "output_type": "stream",
     "text": [
      "['test/mk3.png', 'test/mo.png', 'test/face_models_ali-stephens_8590751.jpg', 'test/ak.png', 'test/face_models_ali-stephens_5027632.jpg', 'test/face_models_ali-stephens_962384.jpg', 'test/face_models_ali-stephens_957360.jpg', 'test/face_models_ali-stephens_954224.jpg', 'test/lennon-1.jpg', 'test/mk2.png', 'test/mk.png', 'test/face_models_ali-stephens_1017970.jpg', 'test/face_models_ali-stephens_5823624.jpg', 'test/face_models_ali-stephens_1006979.jpg', 'test/clapton-1.jpg', 'test/adams.jpg', 'test/clapton-2.jpg', 'test/jf.png', 'test/face_models_ali-stephens_956699.jpg', 'test/carell.jpg', 'test/lennon-2.jpg', 'test/face_models_ali-stephens_1344824.jpg']\n"
     ]
    }
   ],
   "source": [
    "import glob\n",
    "im_path = glob.glob('test/*.*')\n",
    "print im_path"
   ]
  },
  {
   "cell_type": "code",
   "execution_count": 4,
   "metadata": {
    "collapsed": false
   },
   "outputs": [],
   "source": [
    "# Define L2dist retrieval function and compare each other\n",
    "def cal_L2dist(vec1,vec2):\n",
    "    diff= vec1-vec2\n",
    "    return (np.sum(diff**2) / vec1.shape / 2.)[0]\n",
    "\n",
    "# Retrieval closest \n",
    "def min_L2dist(vec,vectors,num_cand):\n",
    "    L2dist=[]\n",
    "    for i in range(len(vectors)):\n",
    "        L2dist.append(cal_L2dist(vec,vectors[i]))\n",
    "    temp = L2dist[:]\n",
    "    # See distance\n",
    "    #     plt.figure()\n",
    "    #     plt.plot(temp)\n",
    "    temp.sort()\n",
    "    #     plt.figure()\n",
    "    #     plt.plot(temp[:num_cand])\n",
    "    closest=temp[:num_cand]\n",
    "    #return [L2dist.index(i) for i in closest]   # Problem when duplicated element exist.\n",
    "    def indices( mylist, value):\n",
    "        return [i for i,x in enumerate(mylist) if x==value]\n",
    "    def remove_duplicates(values):\n",
    "        output = []\n",
    "        seen = set()\n",
    "        for value in values:\n",
    "            # If value has not been encountered yet,\n",
    "            # ... add it to both list and set.\n",
    "            if value not in seen:\n",
    "                output.append(value)\n",
    "                seen.add(value)\n",
    "        return output\n",
    "    index_L2=[indices(L2dist,dist) for dist in remove_duplicates(closest)]\n",
    "    return sum(index_L2, [])[:num_cand]"
   ]
  },
  {
   "cell_type": "code",
   "execution_count": 23,
   "metadata": {
    "collapsed": true
   },
   "outputs": [],
   "source": [
    "# output2 = network.eval(feed_dict={input_placeholder:vggface.load_image('test/ak.png')})[0]\n",
    "vectors = [network.eval(feed_dict={input_placeholder:vggface.load_image(im)})[0] for im in im_path] "
   ]
  },
  {
   "cell_type": "code",
   "execution_count": 31,
   "metadata": {
    "collapsed": false
   },
   "outputs": [
    {
     "name": "stdout",
     "output_type": "stream",
     "text": [
      "['test/ak.png', 'test/clapton-2.jpg', 'test/face_models_ali-stephens_1344824.jpg', 'test/clapton-1.jpg', 'test/face_models_ali-stephens_1006979.jpg']\n"
     ]
    }
   ],
   "source": [
    "output = network.eval(feed_dict={input_placeholder:vggface.load_image('test/ak.png')})[0]\n",
    "result  = min_L2dist(output, vectors, 5)\n",
    "retriev = [im_path[i] for i in result]\n",
    "print retriev"
   ]
  },
  {
   "cell_type": "code",
   "execution_count": 25,
   "metadata": {
    "collapsed": false
   },
   "outputs": [
    {
     "name": "stdout",
     "output_type": "stream",
     "text": [
      "['test/mk2.png', 'test/face_models_ali-stephens_1344824.jpg', 'test/clapton-2.jpg', 'test/face_models_ali-stephens_1006979.jpg', 'test/clapton-1.jpg']\n"
     ]
    }
   ],
   "source": []
  },
  {
   "cell_type": "code",
   "execution_count": 28,
   "metadata": {
    "collapsed": false
   },
   "outputs": [
    {
     "name": "stdout",
     "output_type": "stream",
     "text": [
      "['__class__', '__delattr__', '__dict__', '__doc__', '__format__', '__getattribute__', '__hash__', '__init__', '__module__', '__new__', '__reduce__', '__reduce_ex__', '__repr__', '__setattr__', '__sizeof__', '__str__', '__subclasshook__', '__weakref__', 'add_', 'batch_size', 'eval', 'get_output', 'get_unique_name_', 'layers', 'load', 'make_var', 'names', 'params', 'setup', 'vars']\n",
      "Help on method get_output in module vggface:\n",
      "\n",
      "get_output(self) method of vggface.VGGFace instance\n",
      "\n"
     ]
    },
    {
     "data": {
      "text/plain": [
       "['_MutableMapping__marker',\n",
       " '__abstractmethods__',\n",
       " '__bool__',\n",
       " '__class__',\n",
       " '__contains__',\n",
       " '__delattr__',\n",
       " '__delitem__',\n",
       " '__dict__',\n",
       " '__doc__',\n",
       " '__enter__',\n",
       " '__eq__',\n",
       " '__exit__',\n",
       " '__format__',\n",
       " '__getattribute__',\n",
       " '__getitem__',\n",
       " '__hash__',\n",
       " '__init__',\n",
       " '__iter__',\n",
       " '__len__',\n",
       " '__metaclass__',\n",
       " '__module__',\n",
       " '__ne__',\n",
       " '__new__',\n",
       " '__nonzero__',\n",
       " '__reduce__',\n",
       " '__reduce_ex__',\n",
       " '__repr__',\n",
       " '__setattr__',\n",
       " '__setitem__',\n",
       " '__sizeof__',\n",
       " '__str__',\n",
       " '__subclasshook__',\n",
       " '__weakref__',\n",
       " '_abc_cache',\n",
       " '_abc_negative_cache',\n",
       " '_abc_negative_cache_version',\n",
       " '_abc_registry',\n",
       " '_d',\n",
       " '_e',\n",
       " '_id',\n",
       " '_lapl',\n",
       " '_lcpl',\n",
       " 'attrs',\n",
       " 'clear',\n",
       " 'close',\n",
       " 'copy',\n",
       " 'create_dataset',\n",
       " 'create_group',\n",
       " 'driver',\n",
       " 'fid',\n",
       " 'file',\n",
       " 'filename',\n",
       " 'flush',\n",
       " 'get',\n",
       " 'id',\n",
       " 'items',\n",
       " 'iteritems',\n",
       " 'iterkeys',\n",
       " 'itervalues',\n",
       " 'keys',\n",
       " 'libver',\n",
       " 'mode',\n",
       " 'move',\n",
       " 'name',\n",
       " 'parent',\n",
       " 'pop',\n",
       " 'popitem',\n",
       " 'ref',\n",
       " 'regionref',\n",
       " 'require_dataset',\n",
       " 'require_group',\n",
       " 'setdefault',\n",
       " 'update',\n",
       " 'userblock_size',\n",
       " 'values',\n",
       " 'visit',\n",
       " 'visititems']"
      ]
     },
     "execution_count": 28,
     "metadata": {},
     "output_type": "execute_result"
    }
   ],
   "source": [
    "# network.layers\n",
    "print dir(network)\n",
    "help(network.get_output)\n",
    "\n",
    "dir(network.params)"
   ]
  }
 ],
 "metadata": {
  "kernelspec": {
   "display_name": "Python 2",
   "language": "python",
   "name": "python2"
  },
  "language_info": {
   "codemirror_mode": {
    "name": "ipython",
    "version": 2
   },
   "file_extension": ".py",
   "mimetype": "text/x-python",
   "name": "python",
   "nbconvert_exporter": "python",
   "pygments_lexer": "ipython2",
   "version": "2.7.6"
  }
 },
 "nbformat": 4,
 "nbformat_minor": 0
}
